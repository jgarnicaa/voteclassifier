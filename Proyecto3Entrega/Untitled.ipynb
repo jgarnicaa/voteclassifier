{
 "cells": [
  {
   "cell_type": "code",
   "execution_count": 5,
   "id": "000792a1",
   "metadata": {},
   "outputs": [],
   "source": [
    "import cv2\n",
    "import numpy as np\n",
    "import math as m"
   ]
  },
  {
   "cell_type": "code",
   "execution_count": 6,
   "id": "7881bdd1",
   "metadata": {},
   "outputs": [
    {
     "data": {
      "text/plain": [
       "'4.5.5'"
      ]
     },
     "execution_count": 6,
     "metadata": {},
     "output_type": "execute_result"
    }
   ],
   "source": [
    "cv2.__version__"
   ]
  },
  {
   "cell_type": "code",
   "execution_count": 7,
   "id": "2c97b11b",
   "metadata": {},
   "outputs": [],
   "source": [
    "image=cv2.imread('InputImages/Petro - copia (4).jpg')\n",
    "width, height = image.shape[:2]\n",
    "img2 = cv2.resize(image, (int(height/6), int(width/6)),interpolation=cv2.INTER_AREA )\n",
    "cv2.imshow('imagen',img2)\n",
    "cv2.waitKey(0)\n",
    "cv2.destroyAllWindows()"
   ]
  },
  {
   "cell_type": "code",
   "execution_count": 8,
   "id": "63bb046e",
   "metadata": {},
   "outputs": [],
   "source": [
    "Kernel=cv2.getStructuringElement(cv2.MORPH_RECT,(5,5))\n",
    "Kernel1=cv2.getStructuringElement(cv2.MORPH_ELLIPSE,(5,5))\n",
    "Kernel2=cv2.getStructuringElement(cv2.MORPH_CROSS,(3,3))"
   ]
  },
  {
   "cell_type": "code",
   "execution_count": 9,
   "id": "1e373dc1",
   "metadata": {},
   "outputs": [],
   "source": [
    "gris=cv2.cvtColor(img2,cv2.COLOR_RGB2GRAY)\n",
    "\n",
    "cv2.imshow('gris',gris)\n",
    "cv2.waitKey(0)\n",
    "cv2.destroyAllWindows()"
   ]
  },
  {
   "cell_type": "code",
   "execution_count": 10,
   "id": "7d103303",
   "metadata": {},
   "outputs": [],
   "source": [
    "equ=cv2.equalizeHist(gris)\n",
    "cv2.imshow('ecuailzada',equ)\n",
    "cv2.waitKey(0)\n",
    "cv2.destroyAllWindows()"
   ]
  },
  {
   "cell_type": "code",
   "execution_count": 11,
   "id": "9cca95a2",
   "metadata": {},
   "outputs": [],
   "source": [
    "cierre=cv2.erode(equ,Kernel2,iterations=1)\n",
    "cv2.imshow('cierre',cierre)\n",
    "cv2.waitKey(0)\n",
    "cv2.destroyAllWindows()"
   ]
  },
  {
   "cell_type": "code",
   "execution_count": 12,
   "id": "a015cbbe",
   "metadata": {},
   "outputs": [],
   "source": [
    "Bordes=cv2.Canny(cierre,10,300)\n",
    "cv2.imshow('Canny',Bordes)\n",
    "cv2.waitKey(0)\n",
    "cv2.destroyAllWindows()"
   ]
  },
  {
   "cell_type": "code",
   "execution_count": 13,
   "id": "6310a545",
   "metadata": {},
   "outputs": [],
   "source": [
    "umbr=cv2.adaptiveThreshold(gris,255,cv2.ADAPTIVE_THRESH_GAUSSIAN_C,cv2.THRESH_BINARY_INV,11,12)\n",
    "cv2.imshow('Umbralizacion',umbr)\n",
    "cv2.waitKey(0)\n",
    "cv2.destroyAllWindows()"
   ]
  },
  {
   "cell_type": "code",
   "execution_count": 14,
   "id": "572b9524",
   "metadata": {},
   "outputs": [],
   "source": [
    "dilatacion=cv2.dilate(umbr,Kernel2,iterations=1)\n",
    "# dilatacion=cv2.dilate(dilatacion,Kernel,iterations=1)\n",
    "\n",
    "cv2.imshow('dilatacion',dilatacion)\n",
    "cv2.waitKey(0)\n",
    "cv2.destroyAllWindows()"
   ]
  },
  {
   "cell_type": "code",
   "execution_count": 15,
   "id": "3cb25e46",
   "metadata": {},
   "outputs": [],
   "source": [
    "gradiente=cv2.morphologyEx(umbr,cv2.MORPH_GRADIENT,Kernel2)\n",
    "cv2.imshow('gradiente',gradiente)\n",
    "cv2.waitKey(0)\n",
    "cv2.destroyAllWindows()"
   ]
  },
  {
   "cell_type": "code",
   "execution_count": 16,
   "id": "b71a488b",
   "metadata": {},
   "outputs": [],
   "source": [
    "img2 = cv2.resize(image, (int(height/6), int(width/6)),interpolation=cv2.INTER_AREA )\n",
    "contours,hierachy=cv2.findContours(umbr,cv2.RETR_EXTERNAL,cv2.CHAIN_APPROX_SIMPLE)\n",
    "cv2.drawContours(img2 ,contours, -1, (0,0,255),2)\n",
    "cv2.imshow('imagen',img2)\n",
    "cv2.imshow('gradiente',gradiente)\n",
    "cv2.waitKey(0)\n",
    "cv2.destroyAllWindows()"
   ]
  },
  {
   "cell_type": "code",
   "execution_count": 17,
   "id": "b4dfe102",
   "metadata": {},
   "outputs": [],
   "source": [
    "img2 = cv2.resize(image, (int(height/6), int(width/6)),interpolation=cv2.INTER_AREA )\n",
    "ht, wt = img2.shape[:2]\n",
    "AreaImg=ht*wt\n",
    "mask=np.ones((ht,wt),np.uint8)*0#Solo es para ver los cortonos\n",
    "contours1,hierachy1=cv2.findContours(umbr,cv2.RETR_EXTERNAL,cv2.CHAIN_APPROX_SIMPLE)\n",
    "#Contours1 es borde externo, contours es borde de rectangulos\n",
    "cv2.drawContours(img2 ,contours,-1, (0,0,255) , 2)\n",
    "\n",
    "result=cv2.drawContours(mask ,contours,-1, 255 , 2)\n",
    "result1=cv2.drawContours(mask.copy() ,contours1,-1, 255 , 2)\n",
    "\n",
    "\n",
    "cv2.imshow('imagen',img2)\n",
    "cv2.imshow('gradiente',gradiente)\n",
    "cv2.imshow('resultado',result)\n",
    "cv2.imshow('resultado1',result1)\n",
    "cv2.waitKey(0)\n",
    "cv2.destroyAllWindows()\n"
   ]
  },
  {
   "cell_type": "code",
   "execution_count": 18,
   "id": "5a512107",
   "metadata": {},
   "outputs": [],
   "source": [
    "ret, th = cv2.threshold(result, 100, 255, cv2.THRESH_BINARY_INV)\n",
    "mask = np.zeros((ht+2, wt+2), np.uint8)\n",
    "cv2.floodFill(th, mask,(0,0),255); # position = (200,200)\n",
    "out = cv2.bitwise_not(th)\n",
    "kernel = np.ones((7,7),np.uint8)\n",
    "out=cv2.morphologyEx(out,cv2.MORPH_OPEN,cv2.getStructuringElement(cv2.MORPH_CROSS,(3,3)))\n",
    "#out=cv2.morphologyEx(out,cv2.MORPH_DILATE,cv2.getStructuringElement(cv2.MORPH_RECT,(5,5)))\n",
    "#out= cv2.dilate(out,kernel,iterations = 5)\n",
    "#out=cv2.bitwise_not(out)\n",
    "outres = cv2.resize(out, (int(height/6), int(width/6)),interpolation=cv2.INTER_AREA )\n",
    "cv2.imshow('out',outres)\n",
    "cv2.waitKey(0)\n",
    "cv2.destroyAllWindows()\n"
   ]
  },
  {
   "cell_type": "code",
   "execution_count": 19,
   "id": "9041ab09",
   "metadata": {},
   "outputs": [],
   "source": [
    "cnt, h = cv2.findContours(out,cv2.RETR_EXTERNAL,cv2.CHAIN_APPROX_SIMPLE)\n",
    "imageres=cv2.resize(image, (int(height/6), int(width/6)),interpolation=cv2.INTER_AREA )\n",
    "rectangulos=[]\n",
    "for i in range(len(cnt)):\n",
    "            area = cv2.contourArea(cnt[i])\n",
    "            if(area>(AreaImg/18) and area<(AreaImg)):\n",
    "                  mask1 = np.zeros_like(img2)\n",
    "                  cv2.drawContours(mask1, cnt, i, 255,-1)\n",
    "                  x,y,w,h = cv2.boundingRect(cnt[i])\n",
    "                  rec=[x,y,w,h]\n",
    "                  rectangulos.append(rec)\n",
    "                  rectangulos.sort(key=lambda rectangulo: rectangulo[0])\n",
    "                  crop= imageres[ y:h+y,x:w+x]\n",
    "                  cv2.imshow(\"snip\",crop)\n",
    "                  if(cv2.waitKey(0))==27:break                \n",
    "cv2.destroyAllWindows()\n",
    "     \n",
    "    "
   ]
  },
  {
   "cell_type": "code",
   "execution_count": 20,
   "id": "5259fec6",
   "metadata": {},
   "outputs": [],
   "source": [
    "#Se separan los rectangulos para ordenarlos, anteriormente se ordenaron de menor a mayor en x encontrando los que están más a la izquierda y ahora en se\n",
    "#se centrará en encontrar de abajo hacía arriba\n",
    "#ESTE ORDEN SOLO SIRVE PARA TARJETON CON 9 POSIBILIDADES\n",
    "izquierda=rectangulos[0:3]\n",
    "medio=rectangulos[3:6]\n",
    "derecha=rectangulos[6:9]\n",
    "\n",
    "izquierda.sort(key=lambda rectangulo: rectangulo[1])\n",
    "medio.sort(key=lambda rectangulo: rectangulo[1])\n",
    "derecha.sort(key=lambda rectangulo: rectangulo[1])\n",
    "\n",
    "candidato=[]\n",
    "for v in range(len(izquierda)):\n",
    "      x=izquierda[v][0]\n",
    "      y=izquierda[v][1]\n",
    "      w=izquierda[v][2]\n",
    "      h=izquierda[v][3]\n",
    "      crop=imageres[y:h+y,x:w+x]\n",
    "      candidato.append(crop)\n",
    "      x=medio[v][0]     #FUNCIONA PORQUE IZAUEIRDA MEDIO Y DERECHA TIENEN LA MISMA LONGITUD LEE EL TARJETON DE IZQUIERDA A DERECHA DE ARRIBA ABAJO\n",
    "      y=medio[v][1]\n",
    "      w=medio[v][2]\n",
    "      h=medio[v][3]\n",
    "      crop=imageres[y:h+y,x:w+x]\n",
    "      candidato.append(crop)\n",
    "      x=derecha[v][0]\n",
    "      y=derecha[v][1]\n",
    "      w=derecha[v][2]\n",
    "      h=derecha[v][3]\n",
    "      crop=imageres[y:h+y,x:w+x]\n",
    "      candidato.append(crop)\n",
    "\n",
    "cv2.imshow('CANDIDATO',candidato[2])\n",
    "cv2.waitKey(0)\n",
    "cv2.destroyAllWindows()\n",
    "\n",
    "\n"
   ]
  },
  {
   "cell_type": "code",
   "execution_count": 21,
   "id": "3f241c03",
   "metadata": {},
   "outputs": [],
   "source": [
    "#Extraccion de características\n",
    "prueba =candidato[1]\n",
    "prueba1=cv2.cvtColor(prueba,cv2.COLOR_RGB2GRAY)\n",
    "#prueba1=cv2.equalizeHist(prueba1)\n",
    "#prueba1=cv2.dilate(prueba1,Kernel2,iterations=1)\n",
    "#prueba1=cv2.erode(prueba1,Kernel2,iterations=3)\n",
    "# prueba1=cv2.dilate(prueba1,Kernel2,iterations=1)\n",
    "#ret,prueba1=cv2.threshold(prueba1,100,255,cv2.THRESH_TRUNC)\n",
    "salida=cv2.adaptiveThreshold(prueba1,255,cv2.ADAPTIVE_THRESH_GAUSSIAN_C,cv2.THRESH_BINARY_INV,11,15)\n",
    "#salida=cv2.Canny(prueba1,120,500)\n",
    "salida=cv2.dilate(salida,Kernel2,iterations=2)\n",
    "cv2.imshow('ORIGINAL',prueba)\n",
    "cv2.imshow('PRE',prueba1)\n",
    "cv2.imshow('FINAL',salida)\n",
    "cv2.waitKey(0)\n",
    "cv2.destroyAllWindows()"
   ]
  },
  {
   "cell_type": "code",
   "execution_count": 22,
   "id": "541989fc",
   "metadata": {},
   "outputs": [
    {
     "name": "stdout",
     "output_type": "stream",
     "text": [
      "este no es el candidato\n"
     ]
    }
   ],
   "source": [
    "final= prueba.copy()\n",
    "lines = cv2.HoughLines(salida,1,np.pi/180,200)\n",
    "y=0\n",
    "if lines is None:\n",
    "    y=False\n",
    "else:\n",
    "    print(len(lines))   \n",
    "    for line in lines:\n",
    "        rho,theta = line[0]\n",
    "        a = np.cos(theta)\n",
    "        b = np.sin(theta)\n",
    "        x0 = a*rho\n",
    "        y0 = b*rho\n",
    "        x1 = int(x0 + 1000*(-b))\n",
    "        y1 = int(y0 + 1000*(a))\n",
    "        x2 = int(x0 - 1000*(-b))\n",
    "        y2 = int(y0 - 1000*(a))\n",
    "        if(x2==x1):\n",
    "            y=False\n",
    "        else:\n",
    "            m=(y2-y1)/(x2-x1)\n",
    "            m= abs(m)\n",
    "        if m<10:\n",
    "            y=True\n",
    "        cv2.line(final,(x1,y1),(x2,y2),(0,0,255),2)\n",
    "if y== True:\n",
    "    print(\"este es el voto\")\n",
    "else:\n",
    "    print(\"este no es el candidato\")\n",
    "    \n",
    "cv2.imshow('salida',final)\n",
    "cv2.waitKey(0)\n",
    "cv2.destroyAllWindows()"
   ]
  },
  {
   "cell_type": "code",
   "execution_count": 23,
   "id": "6c798a35",
   "metadata": {},
   "outputs": [
    {
     "name": "stdout",
     "output_type": "stream",
     "text": [
      "el numero del candidato es el 0\n",
      "este no es el candidato\n",
      "el numero del candidato es el 1\n",
      "este no es el candidato\n",
      "el numero del candidato es el 2\n",
      "este no es el candidato\n",
      "el numero del candidato es el 3\n",
      "este no es el candidato\n",
      "el numero del candidato es el 4\n",
      "este no es el candidato\n",
      "el numero del candidato es el 5\n",
      "este es el voto\n",
      "el numero del candidato es el 6\n",
      "este no es el candidato\n",
      "el numero del candidato es el 7\n",
      "este no es el candidato\n",
      "el numero del candidato es el 8\n",
      "este no es el candidato\n"
     ]
    }
   ],
   "source": [
    "##Deteccion de la característica final\n",
    "t=0\n",
    "for contorno in candidato:\n",
    "    print(\"el numero del candidato es el \" + str(t))\n",
    "    prueba =candidato[t]\n",
    "    prueba1=cv2.cvtColor(prueba,cv2.COLOR_RGB2GRAY)\n",
    "    salida=cv2.adaptiveThreshold(prueba1,255,cv2.ADAPTIVE_THRESH_GAUSSIAN_C,cv2.THRESH_BINARY_INV,11,17)\n",
    "    salida=cv2.dilate(salida,Kernel2,iterations=2)\n",
    "    cv2.imshow('ORIGINAL',prueba)\n",
    "    cv2.imshow('PRE',prueba1)\n",
    "    cv2.imshow('FINAL',salida)\n",
    "    cv2.waitKey(0)\n",
    "    cv2.destroyAllWindows()\n",
    "    t=t+1\n",
    "    final= prueba.copy()\n",
    "    lines = cv2.HoughLines(salida,1,np.pi/180,200)\n",
    "    y=0\n",
    "    if lines is None:\n",
    "        y= False\n",
    "    else:   \n",
    "        for line in lines:\n",
    "            rho,theta = line[0]\n",
    "            a = np.cos(theta)\n",
    "            b = np.sin(theta)\n",
    "            x0 = a*rho\n",
    "            y0 = b*rho\n",
    "            x1 = int(x0 + 1000*(-b))\n",
    "            y1 = int(y0 + 1000*(a))\n",
    "            x2 = int(x0 - 1000*(-b))\n",
    "            y2 = int(y0 - 1000*(a))\n",
    "            if(x2==x1):\n",
    "                y=False\n",
    "            else:\n",
    "                m=(y2-y1)/(x2-x1)\n",
    "                m= abs(m)\n",
    "            if m<2:\n",
    "                y=True\n",
    "            cv2.line(final,(x1,y1),(x2,y2),(0,0,255),2)\n",
    "    if y== True:\n",
    "        print(\"este es el voto\")\n",
    "    else:\n",
    "        print(\"este no es el candidato\")\n",
    "\n",
    "    cv2.imshow('salida',final)\n",
    "    cv2.waitKey(0)\n",
    "    cv2.destroyAllWindows()"
   ]
  },
  {
   "cell_type": "code",
   "execution_count": null,
   "id": "098332b7",
   "metadata": {},
   "outputs": [],
   "source": []
  }
 ],
 "metadata": {
  "kernelspec": {
   "display_name": "Python 3 (ipykernel)",
   "language": "python",
   "name": "python3"
  },
  "language_info": {
   "codemirror_mode": {
    "name": "ipython",
    "version": 3
   },
   "file_extension": ".py",
   "mimetype": "text/x-python",
   "name": "python",
   "nbconvert_exporter": "python",
   "pygments_lexer": "ipython3",
   "version": "3.10.5"
  },
  "vscode": {
   "interpreter": {
    "hash": "65dd8c776b61476d4b1f0afe884cc86eb80e994e3d5e7d70343b37e3ecb9f722"
   }
  }
 },
 "nbformat": 4,
 "nbformat_minor": 5
}
